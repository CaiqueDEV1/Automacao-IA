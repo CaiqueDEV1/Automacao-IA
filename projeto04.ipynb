{
 "cells": [
  {
   "cell_type": "code",
   "execution_count": 2,
   "metadata": {},
   "outputs": [],
   "source": [
    "# projeto 4\n",
    "\n",
    "# - pip install opencv-python\n",
    "# - pip install mediapipe\n",
    "# - pip install cvzone\n",
    "# - pip install streamlit"
   ]
  },
  {
   "cell_type": "markdown",
   "metadata": {},
   "source": [
    "#### Loopings com ´while´"
   ]
  },
  {
   "cell_type": "code",
   "execution_count": 5,
   "metadata": {},
   "outputs": [
    {
     "name": "stdout",
     "output_type": "stream",
     "text": [
      "5\n",
      "4\n",
      "3\n",
      "2\n",
      "1\n"
     ]
    }
   ],
   "source": [
    "contador = 5\n",
    " \n",
    "while contador > 0:\n",
    "    print(contador)\n",
    "    contador = contador - 1"
   ]
  },
  {
   "cell_type": "markdown",
   "metadata": {},
   "source": [
    "#### Testes lógicos com ´if´"
   ]
  },
  {
   "cell_type": "code",
   "execution_count": 9,
   "metadata": {},
   "outputs": [
    {
     "name": "stdout",
     "output_type": "stream",
     "text": [
      "Não é a linguagem do mundo!\n"
     ]
    }
   ],
   "source": [
    "linguagem = \"Cobol\"\n",
    "\n",
    "if linguagem != \"Python\":\n",
    "    print(\"Não é a linguagem do mundo!\")"
   ]
  },
  {
   "cell_type": "markdown",
   "metadata": {},
   "source": [
    "#### Loopings infinitos"
   ]
  },
  {
   "cell_type": "code",
   "execution_count": 10,
   "metadata": {},
   "outputs": [
    {
     "name": "stdout",
     "output_type": "stream",
     "text": [
      "Imersao\n",
      "que isso\n",
      "po\n",
      "vamo\n",
      "parar\n"
     ]
    }
   ],
   "source": [
    "while True:\n",
    "    mensagem = input(\"Digite algo: \")\n",
    "    print(mensagem)\n",
    "\n",
    "    if mensagem == \"parar\":\n",
    "        break"
   ]
  }
 ],
 "metadata": {
  "kernelspec": {
   "display_name": "Python 3",
   "language": "python",
   "name": "python3"
  },
  "language_info": {
   "codemirror_mode": {
    "name": "ipython",
    "version": 3
   },
   "file_extension": ".py",
   "mimetype": "text/x-python",
   "name": "python",
   "nbconvert_exporter": "python",
   "pygments_lexer": "ipython3",
   "version": "3.12.1"
  }
 },
 "nbformat": 4,
 "nbformat_minor": 2
}
